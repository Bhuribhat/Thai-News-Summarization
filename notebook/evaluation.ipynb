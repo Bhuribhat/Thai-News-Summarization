{
 "cells": [
  {
   "cell_type": "code",
   "execution_count": null,
   "metadata": {},
   "outputs": [],
   "source": [
    "import evaluate\n",
    "import numpy as np\n",
    "import pandas as pd\n",
    "from bert_score import score\n",
    "from pythainlp.tokenize import word_tokenize"
   ]
  },
  {
   "cell_type": "code",
   "execution_count": null,
   "metadata": {},
   "outputs": [],
   "source": [
    "device = \"cuda:0\""
   ]
  },
  {
   "cell_type": "code",
   "execution_count": null,
   "metadata": {},
   "outputs": [],
   "source": [
    "test_data = pd.read_csv(\"testset.csv\")"
   ]
  },
  {
   "cell_type": "code",
   "execution_count": null,
   "metadata": {},
   "outputs": [],
   "source": [
    "# ROUGE\n",
    "rouge = evaluate.load(\"rouge\")\n",
    "\n",
    "def deep_tokenize(word):\n",
    "    return word_tokenize(word, engine=\"deepcut\")"
   ]
  },
  {
   "cell_type": "code",
   "execution_count": null,
   "metadata": {},
   "outputs": [],
   "source": [
    "total_val_loss = 0\n",
    "samples_seen = 0\n",
    "\n",
    "# BERTScore\n",
    "candidates = []\n",
    "references = []\n",
    "\n",
    "for i, (index, data_point) in enumerate(test_data.iterrows()):\n",
    "    # TODO change to your column\n",
    "    preds = data_point[\"\"]\n",
    "    labels = data_point[\"summary(gold standard)\"]\n",
    "    rouge.add_batch(predictions=[preds], references=[labels])\n",
    "    candidates.extend(preds)\n",
    "    references.extend(labels)\n",
    "\n",
    "rogue_score = rouge.compute(use_stemmer=False , tokenizer=deep_tokenize)\n",
    "print({\n",
    "    \"rouge1\" : rogue_score[\"rouge1\"],\n",
    "    \"rouge2\" : rogue_score[\"rouge2\"],\n",
    "    \"rougeL\" : rogue_score[\"rougeL\"],\n",
    "    \"rougeLsum\" : rogue_score[\"rougeLsum\"],\n",
    "})\n",
    "\n",
    "# BERTScore\n",
    "P, R, F1 = score(candidates, references, lang=\"th\", verbose=True, device=device)\n",
    "print(f\"F1 score  : {F1.mean():.3f}\")\n",
    "print(f\"Precision : {P.mean():.3f}\")\n",
    "print(f\"Recall    : {R.mean():.3f}\")"
   ]
  }
 ],
 "metadata": {
  "language_info": {
   "name": "python"
  },
  "orig_nbformat": 4
 },
 "nbformat": 4,
 "nbformat_minor": 2
}
