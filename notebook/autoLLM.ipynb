{
 "cells": [
  {
   "cell_type": "code",
   "execution_count": 1,
   "id": "0cf10929-8491-4b11-a24a-dd9a81ab3f24",
   "metadata": {},
   "outputs": [],
   "source": [
    "import math\n",
    "from langchain_core.prompts import PromptTemplate\n",
    "from langchain_core.prompts.image import ImagePromptTemplate\n",
    "from langchain_core.output_parsers import StrOutputParser\n",
    "from langchain_core.pydantic_v1 import BaseModel, Field\n",
    "from langchain_core.messages import HumanMessage\n",
    "from langchain_core.prompts import ChatPromptTemplate\n",
    "\n",
    "from typing import List\n",
    "import threading\n",
    "import json\n",
    "from glob import glob\n",
    "from PIL import Image\n",
    "import json\n",
    "import pandas as pd\n",
    "import time"
   ]
  },
  {
   "cell_type": "code",
   "execution_count": 2,
   "id": "ab5174f4-23d4-4c06-a243-e7ee9f007f38",
   "metadata": {},
   "outputs": [],
   "source": [
    "df = pd.read_csv('sample_dataset.csv')"
   ]
  },
  {
   "cell_type": "code",
   "execution_count": 3,
   "id": "eb0afaf4-34b3-4066-9c7c-471578bc1211",
   "metadata": {},
   "outputs": [],
   "source": [
    "df[\"body\"] = df[\"body\"].str[14:-4]"
   ]
  },
  {
   "cell_type": "code",
   "execution_count": 4,
   "id": "891fc521-6a00-46ee-b327-306ad52f21c0",
   "metadata": {},
   "outputs": [
    {
     "data": {
      "text/plain": [
       "' ช่วงที่หลุมดําใช้วัตถุของกาแล็กซีในอัตราที่สูงมากและมีมวลเพิ่มขึ้น ช่วงเวลานี้เองที่กาแล็กซีเกิดนิวเคลียสดาราจักรกัมมันต์ (Active Galactic Nucleus-AGN) อันเป็นพื้นที่อัดแน่นตรงศูนย์กลางกาแล็กซีมีสภาพส่องสว่างสูงกว่าค่าสเปกตรัมแม่เหล็กไฟฟ้า,ผลกระทบจากกิจกรรมของหลุมดํายักษ์ ก็คือลมกาแล็กซีซึ่งเป็นก๊าซจากใจกลางกาแล็กซีที่ถูกขับเคลื่อนโดยพลังงานที่ปล่อยออกมาจากนิวเคลียสที่ทํางานอยู่ ลมเหล่านี้มีความเร็วได้สูงถึงหลายพัน กม./วินาที ทีมจึงลองศึกษาลมเหล่านี้ในควาซาร์ (quasar) เป็นวัตถุในอวกาศมีแสงส่องสว่างคล้ายกับดาวฤกษ์ และมีหลุมดํายักษ์ล้อมรอบด้วยกลุ่มก๊าซและพุ่งเข้าสู่หลุมดําโดยปลดปล่อยพลังแม่เหล็กไฟฟ้า ออกมา โดยได้ใช้สเปกโตรกราฟอินฟราเรดของเครื่องแม่เหล็กไฟฟ้าและคลื่นรังสีอินฟราเรด (EMIR) บน กล้องโทรทรรศน์จีทีซี (Gran Telescopio Canarias-GTC) ที่ออกแบบมาเพื่อศึกษาวัตถุที่อยู่ไกลที่สุดในจักรวาลโดยการวิเคราะห์แสงอินฟราเรด,การศึกษาควาซาร์ J1509 + 0434 จากเครื่องมือ EMIR ทีมค้นพบว่าพลังลมไอออนนั้นเร็วกว่าลมโมเลกุลด้วยความเร็วสูงสุด 1,200 กม./วินาที ซึ่งขั้นตอนต่อไปคือการสังเกตตัวอย่างที่สมบูรณ์ของควาซาร์ใกล้เคียง และตรวจสอบประชากรดาวฤกษ์และกาแล็กซีที่ดาวเหล่านั้นอาศัยอยู่ เพื่อช่วยให้สามารถยืนยันผลกระทบของ AGN ต่อวิวัฒนาการของกาแล็กซีได้โดยตรง.'"
      ]
     },
     "execution_count": 4,
     "metadata": {},
     "output_type": "execute_result"
    }
   ],
   "source": [
    "df[\"body\"][0]"
   ]
  },
  {
   "cell_type": "code",
   "execution_count": 5,
   "id": "8e277637-f2d4-48d6-8602-5751255b4404",
   "metadata": {},
   "outputs": [],
   "source": [
    "simple_dataloader = df[\"body\"].tolist()"
   ]
  },
  {
   "cell_type": "code",
   "execution_count": 6,
   "id": "f22fec16-d972-4c1b-a484-120783b6b890",
   "metadata": {},
   "outputs": [
    {
     "data": {
      "text/plain": [
       "200"
      ]
     },
     "execution_count": 6,
     "metadata": {},
     "output_type": "execute_result"
    }
   ],
   "source": [
    "len(simple_dataloader)"
   ]
  },
  {
   "cell_type": "code",
   "execution_count": 7,
   "id": "532f89ca-a184-4232-8dcc-6d554135cb22",
   "metadata": {},
   "outputs": [],
   "source": [
    "import os\n",
    "from langchain_google_genai import GoogleGenerativeAI\n",
    "from google.generativeai.types import HarmCategory, HarmBlockThreshold\n",
    "\n",
    "# TODO GOOGLE API KEY\n",
    "os.environ[\"GOOGLE_API_KEY\"] = None\n",
    "llm = GoogleGenerativeAI(model=\"gemini-1.0-pro\" , temperature=.2,safety_settings={\n",
    "        HarmCategory.HARM_CATEGORY_DANGEROUS_CONTENT: HarmBlockThreshold.BLOCK_NONE,\n",
    "        HarmCategory.HARM_CATEGORY_HATE_SPEECH: HarmBlockThreshold.BLOCK_NONE,\n",
    "        HarmCategory.HARM_CATEGORY_HARASSMENT:  HarmBlockThreshold.BLOCK_NONE,\n",
    "        HarmCategory.HARM_CATEGORY_SEXUALLY_EXPLICIT : HarmBlockThreshold.BLOCK_NONE\n",
    "    },)"
   ]
  },
  {
   "cell_type": "code",
   "execution_count": 8,
   "id": "d4676469-dcf1-4e41-981d-6216d3687852",
   "metadata": {},
   "outputs": [],
   "source": [
    "prompt_template = \"\"\"\n",
    "ให้สรุปข้อความที่ให้\n",
    "\n",
    "ตัวอย่างผลลัพธ์ (อย่าเอามาตอบ):\n",
    "รอกันมา 2 สัปดาห์ บอลสโมสรลีกต่างๆของยุโรปก็กลับมาดวลแข้งกันอีกครั้งในวีกนี้ ช่วงฟีฟ่าเดย์ รอบล่าสุดทิ้งทวนคัดบอลโลก มีประเด็นให้ฮือฮากันหลังจากอิตาลี หนึ่งในทีมอมตะของวงการลูกหนังโลก\n",
    "\n",
    "ข้อความที่ให้\n",
    "{message}\n",
    "\n",
    "output:\n",
    "\"\"\"\n",
    "\n",
    "\n",
    "prompt = PromptTemplate(template=prompt_template,\n",
    "                        input_variables=[\"message\"])\n",
    "\n",
    "parser = StrOutputParser()\n",
    "chain = prompt | llm | parser"
   ]
  },
  {
   "cell_type": "code",
   "execution_count": 9,
   "id": "8f4dc353-2afe-446e-be3e-f124414730f3",
   "metadata": {
    "scrolled": true
   },
   "outputs": [
    {
     "name": "stdout",
     "output_type": "stream",
     "text": [
      "remain 199\n",
      "remain 198\n",
      "remain 197\n",
      "remain 196\n",
      "remain 195\n",
      "remain 194\n",
      "remain 193\n",
      "remain 192\n",
      "remain 191\n",
      "remain 190\n",
      "remain 189\n",
      "remain 188\n",
      "remain 187\n",
      "remain 186\n",
      "remain 185\n",
      "remain 184\n",
      "remain 183\n",
      "remain 182\n",
      "remain 181\n",
      "remain 180\n",
      "remain 179\n",
      "remain 178\n",
      "remain 177\n",
      "remain 176\n",
      "remain 175\n",
      "remain 174\n",
      "remain 173\n",
      "remain 172\n",
      "remain 171\n",
      "remain 170\n",
      "remain 169\n",
      "remain 168\n",
      "remain 167\n",
      "remain 166\n",
      "remain 165\n",
      "remain 164\n",
      "remain 163\n",
      "remain 162\n",
      "remain 161\n",
      "remain 160\n",
      "remain 159\n",
      "remain 158\n",
      "remain 157\n",
      "remain 156\n",
      "remain 155\n",
      "remain 154\n",
      "remain 153\n",
      "remain 152\n",
      "remain 151\n",
      "remain 150\n",
      "remain 149\n",
      "remain 148\n",
      "remain 147\n",
      "remain 146\n",
      "remain 145\n",
      "remain 144\n",
      "remain 143\n",
      "remain 142\n",
      "remain 141\n",
      "remain 140\n",
      "remain 139\n",
      "remain 138\n",
      "remain 137\n",
      "remain 136\n",
      "remain 135\n",
      "remain 134\n",
      "remain 133\n",
      "remain 132\n",
      "remain 131\n",
      "remain 130\n",
      "remain 129\n",
      "remain 128\n",
      "remain 127\n",
      "remain 126\n",
      "remain 125\n",
      "remain 124\n",
      "remain 123\n",
      "remain 122\n",
      "remain 121\n",
      "remain 120\n",
      "remain 119\n",
      "remain 118\n",
      "remain 117\n",
      "remain 116\n",
      "remain 115\n",
      "remain 114\n",
      "remain 113\n",
      "remain 112\n",
      "remain 111\n",
      "remain 110\n",
      "remain 109\n",
      "remain 108\n",
      "remain 107\n",
      "remain 106\n",
      "remain 105\n",
      "remain 104\n",
      "remain 103\n",
      "remain 102\n",
      "remain 101\n",
      "remain 100\n",
      "remain 99\n",
      "remain 98\n",
      "remain 97\n",
      "remain 96\n",
      "remain 95\n",
      "remain 94\n",
      "remain 93\n",
      "remain 92\n",
      "remain 91\n",
      "remain 90\n",
      "remain 89\n",
      "remain 88\n",
      "remain 87\n",
      "remain 86\n",
      "remain 85\n",
      "remain 84\n",
      "remain 83\n",
      "remain 82\n",
      "remain 81\n",
      "remain 80\n",
      "remain 79\n",
      "remain 78\n",
      "remain 77\n",
      "remain 76\n",
      "remain 75\n",
      "remain 74\n",
      "remain 73\n",
      "remain 72\n",
      "remain 71\n",
      "remain 70\n",
      "remain 69\n",
      "remain 68\n",
      "remain 67\n",
      "remain 66\n",
      "remain 65\n",
      "remain 64\n",
      "remain 63\n",
      "remain 62\n",
      "remain 61\n",
      "remain 60\n",
      "remain 59\n",
      "remain 58\n",
      "remain 57\n",
      "remain 56\n",
      "remain 55\n",
      "remain 54\n",
      "remain 53\n",
      "remain 52\n",
      "remain 51\n",
      "remain 50\n",
      "remain 49\n",
      "remain 48\n",
      "remain 47\n",
      "remain 46\n",
      "remain 45\n",
      "remain 44\n",
      "remain 43\n",
      "remain 42\n",
      "remain 41\n",
      "remain 40\n",
      "remain 39\n",
      "remain 38\n",
      "remain 37\n",
      "remain 36\n",
      "remain 35\n",
      "remain 34\n",
      "remain 33\n",
      "remain 32\n",
      "remain 31\n",
      "remain 30\n",
      "remain 29\n",
      "remain 28\n",
      "remain 27\n",
      "remain 26\n",
      "remain 25\n",
      "remain 24\n",
      "remain 23\n",
      "remain 22\n",
      "remain 21\n",
      "remain 20\n",
      "remain 19\n",
      "remain 18\n",
      "remain 17\n",
      "remain 16\n",
      "remain 15\n",
      "remain 14\n",
      "remain 13\n",
      "remain 12\n",
      "remain 11\n",
      "remain 10\n",
      "remain 9\n",
      "remain 8\n",
      "remain 7\n",
      "remain 6\n",
      "remain 5\n",
      "remain 4\n",
      "remain 3\n",
      "remain 2\n",
      "remain 1\n",
      "remain 0\n"
     ]
    }
   ],
   "source": [
    "def predict(chain ,message,label_dataset):\n",
    "    try:\n",
    "        output = chain.invoke({\"message\" : message})\n",
    "        data = {\"message\":message,\"output\" : output}\n",
    "        label_dataset.append(data)\n",
    "    except:\n",
    "        print(\"Fail\")\n",
    "        simple_dataloader.append(message)\n",
    "\n",
    "label_dataset = []\n",
    "while len(simple_dataloader) > 0:\n",
    "    message = simple_dataloader.pop()\n",
    "    predict(chain, message,label_dataset)\n",
    "    time.sleep(1)\n",
    "    print(\"remain\" , len(simple_dataloader))        "
   ]
  },
  {
   "cell_type": "code",
   "execution_count": 10,
   "id": "2a6e07ff-9c07-40c0-a4c5-fdd1e6351763",
   "metadata": {},
   "outputs": [
    {
     "data": {
      "text/plain": [
       "200"
      ]
     },
     "execution_count": 10,
     "metadata": {},
     "output_type": "execute_result"
    }
   ],
   "source": [
    "len(label_dataset)"
   ]
  },
  {
   "cell_type": "code",
   "execution_count": 14,
   "id": "c9b1c44d-b598-47de-8e3c-20a2ffe0cef3",
   "metadata": {},
   "outputs": [],
   "source": [
    "with open(\"summarization by gemini 1.0 pro.json\", \"w\", encoding='utf8') as final:\n",
    "    json.dump(label_dataset, final)"
   ]
  },
  {
   "cell_type": "code",
   "execution_count": null,
   "id": "eba196ee-6862-489d-a89f-a99bcecc6d89",
   "metadata": {},
   "outputs": [],
   "source": []
  }
 ],
 "metadata": {
  "kernelspec": {
   "display_name": "Python 3 (ipykernel)",
   "language": "python",
   "name": "python3"
  },
  "language_info": {
   "codemirror_mode": {
    "name": "ipython",
    "version": 3
   },
   "file_extension": ".py",
   "mimetype": "text/x-python",
   "name": "python",
   "nbconvert_exporter": "python",
   "pygments_lexer": "ipython3",
   "version": "3.10.14"
  }
 },
 "nbformat": 4,
 "nbformat_minor": 5
}
